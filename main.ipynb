{
 "cells": [
  {
   "cell_type": "code",
   "execution_count": 1,
   "metadata": {},
   "outputs": [
    {
     "data": {
      "text/plain": [
       "True"
      ]
     },
     "execution_count": 1,
     "metadata": {},
     "output_type": "execute_result"
    }
   ],
   "source": [
    "import os\n",
    "from dotenv import load_dotenv\n",
    "load_dotenv()"
   ]
  },
  {
   "cell_type": "code",
   "execution_count": null,
   "metadata": {},
   "outputs": [],
   "source": [
    "os.environ['OPENAI_API_KEY']  = os.getenv(\"OPENAI_API_KEY\")\n",
    "os.environ['OPENAI_API_KEY']"
   ]
  },
  {
   "cell_type": "code",
   "execution_count": 3,
   "metadata": {},
   "outputs": [],
   "source": [
    "## Persist index on harddrive\n",
    "\n",
    "import os.path\n",
    "from llama_index.core import (\n",
    "    VectorStoreIndex as VectorStoreIndex,\n",
    "    SimpleDirectoryReader,\n",
    "    StorageContext,\n",
    "    load_index_from_storage\n",
    ")\n",
    "\n",
    "PERSIST_DIR = \"./storage\"\n",
    "if not os.path.exists(PERSIST_DIR):\n",
    "    documents = SimpleDirectoryReader('data').load_data()\n",
    "    index = VectorStoreIndex.from_documents(documents=documents)\n",
    "    index.storage_context.persist(persist_dir=PERSIST_DIR)\n",
    "else:\n",
    "    storage_context = StorageContext.from_defaults(persist_dir=PERSIST_DIR)\n",
    "    index = load_index_from_storage(storage_context=storage_context)\n",
    "\n",
    "query_engine = index.as_query_engine()"
   ]
  },
  {
   "cell_type": "code",
   "execution_count": null,
   "metadata": {},
   "outputs": [
    {
     "name": "stdout",
     "output_type": "stream",
     "text": [
      "Final Response: The most popular banks mentioned in the narrations are\n",
      "BOP, Meezan, HBL, ABL, and UBL. The most popular transaction channels\n",
      "mentioned are ATM, IBFT, and cash withdrawals.\n",
      "______________________________________________________________________\n",
      "Source Node 1/2\n",
      "Node ID: fe4d9cf7-919f-4878-bc76-5c1ef1160d03\n",
      "Similarity: 0.8477197370133889\n",
      "Text: As        we      can     see     from    the     pie     chart\n",
      "above   ATM     is      still   the     most    popular source  of\n",
      "transaction              As      we      can     see     from    the\n",
      "pie     chart   above   most    of      the     transaction     were\n",
      "IBFT    or      cash    withdrawals.\n",
      "______________________________________________________________________\n",
      "Source Node 2/2\n",
      "Node ID: 7e2f82b3-7d59-4f0d-88b1-a7810450e3b2\n",
      "Similarity: 0.8027799521786299\n",
      "Text: Most      of      our     customers       had     made\n",
      "transactions    in      BOP,    Meezan, HBL,    ABL     and     UBL,\n",
      "compared        to      the     rest.   Task    4:      Creating\n",
      "a       Graph   to      better  understand      relation\n",
      "between Accounts        The     network created gives   us      a\n",
      "better  understanding   of:     - The   frequency       of\n",
      "transactions    - The   weight  of      transactions    - The\n",
      "direction       of      transactions    - The   connectivity    level\n",
      "b...\n"
     ]
    }
   ],
   "source": [
    "from llama_index.core.response.pprint_utils import pprint_response\n",
    "response = query_engine.query(\"what are the most popular banks and transaction channgel according to the narrations for better understanding of insights\")\n",
    "pprint_response(response, show_source=True)"
   ]
  },
  {
   "cell_type": "code",
   "execution_count": 8,
   "metadata": {},
   "outputs": [
    {
     "name": "stdout",
     "output_type": "stream",
     "text": [
      "Final Response: IBFT transactions have the highest transaction ratio.\n",
      "______________________________________________________________________\n",
      "Source Node 1/2\n",
      "Node ID: fe4d9cf7-919f-4878-bc76-5c1ef1160d03\n",
      "Similarity: 0.8026046308145672\n",
      "Text: As        we      can     see     from    the     pie     chart\n",
      "above   ATM     is      still   the     most    popular source  of\n",
      "transaction              As      we      can     see     from    the\n",
      "pie     chart   above   most    of      the     transaction     were\n",
      "IBFT    or      cash    withdrawals.\n",
      "______________________________________________________________________\n",
      "Source Node 2/2\n",
      "Node ID: 27a9f6a4-6a87-4eb9-b9a8-00b5b734300f\n",
      "Similarity: 0.7837468090149141\n",
      "Text: Bucket The transaction amount has been divided into ranges. Each\n",
      "transaction amount falls into a bucket from 1-10 depending upon the\n",
      "amount. Largest bucket is 10. The average has been taken for all the\n",
      "transactions within a month. Large bucket size is good indicator, as\n",
      "it represents the transactions were of higher amounts. Using\n",
      "individual amou...\n"
     ]
    }
   ],
   "source": [
    "response = query_engine.query(\"which transaction type has highest transaction ration?\")\n",
    "pprint_response(response, show_source=True)"
   ]
  },
  {
   "cell_type": "code",
   "execution_count": 9,
   "metadata": {},
   "outputs": [
    {
     "name": "stdout",
     "output_type": "stream",
     "text": [
      "Final Response: Most of the transactions take place through ATM.\n",
      "______________________________________________________________________\n",
      "Source Node 1/2\n",
      "Node ID: fe4d9cf7-919f-4878-bc76-5c1ef1160d03\n",
      "Similarity: 0.8405319273725868\n",
      "Text: As        we      can     see     from    the     pie     chart\n",
      "above   ATM     is      still   the     most    popular source  of\n",
      "transaction              As      we      can     see     from    the\n",
      "pie     chart   above   most    of      the     transaction     were\n",
      "IBFT    or      cash    withdrawals.\n",
      "______________________________________________________________________\n",
      "Source Node 2/2\n",
      "Node ID: 7e2f82b3-7d59-4f0d-88b1-a7810450e3b2\n",
      "Similarity: 0.7876918111596222\n",
      "Text: Most      of      our     customers       had     made\n",
      "transactions    in      BOP,    Meezan, HBL,    ABL     and     UBL,\n",
      "compared        to      the     rest.   Task    4:      Creating\n",
      "a       Graph   to      better  understand      relation\n",
      "between Accounts        The     network created gives   us      a\n",
      "better  understanding   of:     - The   frequency       of\n",
      "transactions    - The   weight  of      transactions    - The\n",
      "direction       of      transactions    - The   connectivity    level\n",
      "b...\n"
     ]
    }
   ],
   "source": [
    "response = query_engine.query(\"From which source most of the transactions take place?\")\n",
    "pprint_response(response, show_source=True)"
   ]
  }
 ],
 "metadata": {
  "kernelspec": {
   "display_name": "Python 3",
   "language": "python",
   "name": "python3"
  },
  "language_info": {
   "codemirror_mode": {
    "name": "ipython",
    "version": 3
   },
   "file_extension": ".py",
   "mimetype": "text/x-python",
   "name": "python",
   "nbconvert_exporter": "python",
   "pygments_lexer": "ipython3",
   "version": "3.11.0"
  }
 },
 "nbformat": 4,
 "nbformat_minor": 2
}
